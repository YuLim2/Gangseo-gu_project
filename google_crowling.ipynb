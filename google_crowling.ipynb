{
 "cells": [
  {
   "cell_type": "code",
   "execution_count": 10,
   "metadata": {
    "colab": {
     "base_uri": "https://localhost:8080/",
     "height": 49
    },
    "id": "kCI63hM41o8J",
    "outputId": "18dcf470-32b1-4fba-e808-d82326c547ff"
   },
   "outputs": [
    {
     "name": "stdout",
     "output_type": "stream",
     "text": [
      "대저생태공원4.2 (1,680)조류 관찰과 형형색색의 계절 꽃\thttps://encrypted-tbn1.gstatic.com/licensed-image?q=tbn:ANd9GcRRT1TkNZMCkAaZ-tlwXX_XL9UiaDkew5BDsnf4cMMt086OaBhAHlPWGisM-7GOFRwNaXKpGvxhTQZHfwNoyvKRXQ\n",
      "렛츠런파크 부산경남4.1 (238)경마용 대형 경마장\thttps://lh5.googleusercontent.com/p/AF1QipPtKVTv9mZzLwaRQBecurGLGv_lOCKq-RoY1w4J=w928-h520-n-k-no\n",
      "맥도생태공원4.5 (921)공원 및 습지\thttps://lh5.googleusercontent.com/p/AF1QipPY6dQgSbdwpV9kBRJKOODqM2PqMfQeV906PwOT=w928-h520-n-k-no\n",
      "정거벽화마을3.9 (297)\thttps://encrypted-tbn2.gstatic.com/licensed-image?q=tbn:ANd9GcR081F4LOAIMpyOZcIsrDJtgKbk8D99kWCs17dTuufybBJhQ75KGfVv2-4g2RuFYTQSY7_wnL9CzfjVfdlwQjjUiw\n",
      "Yeondaebong4.4 (93)등산 및 산\thttps://encrypted-tbn1.gstatic.com/licensed-image?q=tbn:ANd9GcQ6SrO-Xg4fk1AqN0RJNWHuc695oUrne63A4nEJJWizczw1KlpLRGmCg5JI46Ga1rozSy68jfcrPlZaoeGrtdqbZA\n",
      "가덕대교4.1 (23)\thttps://encrypted-tbn0.gstatic.com/licensed-image?q=tbn:ANd9GcTL-i3TS5jPwy8Pgz5_ShQA0fAHy_5OTP7XL2-MtjTqgWqEllzRdfttJ2PyNKY6ST-4seBQBlMNXYWKwUQIP4TAMA\n",
      "가덕도 외양포 일본군 포진지4.2 (196)\thttps://lh5.googleusercontent.com/p/AF1QipNYKYPyKsfcU_tI7fQZ5rLs5O5cJbp93EtwEGDn=w928-h520-n-k-no\n",
      "서낙동강3.7 (3)강\thttps://encrypted-tbn1.gstatic.com/images?q=tbn:ANd9GcSwNOzI4Fg8IhVFHHeadmhdCLMHUY7-hJqbLvbwbM6OiGnabjNcennzeu5thqXEKTqWHR3vHoIBjSsWtQ\n",
      "진우도4.0 (1)\thttps://lh5.googleusercontent.com/p/AF1QipO95di6EA_qQ6wnddyBvn9tjekNJJ90S-k7WKfn=w928-h520-n-k-no\n"
     ]
    }
   ],
   "source": [
    "from bs4 import BeautifulSoup as bs\n",
    "import pandas as pd\n",
    "import requests\n",
    "\n",
    "url = 'https://www.google.com/travel/things-to-do?g2lb=2502548,2503771,2503781,4258168,4270442,4284970,4291517,4306835,4515404,4597339,4649665,4722900,4723331,4733969,4757164,4758493,4762561,4786153,4786958&hl=ko-KR&gl=kr&ssta=1&dest_mid=/m/0dws95&dest_state_type=main&dest_src=ts&q=%EB%B6%80%EC%82%B0+%EA%B0%95%EC%84%9C%EA%B5%AC+%EB%9E%9C%EB%93%9C%EB%A7%88%ED%81%AC&sa=X&ved=2ahUKEwjuj5P7u_r3AhUb4GEKHSCTCTUQuL0BegQIChAa'\n",
    "res = requests.get(url)\n",
    "soup = bs(res.content, \"html.parser\")\n",
    "\n",
    "articles = soup.select('.f4hh3d')\n",
    "imgs = soup.select('img')\n",
    "\n",
    "for i in range(1, len(articles)) :\n",
    "  print(articles[i-1].text + '\\t' + imgs[i].attrs['data-src'])"
   ]
  },
  {
   "cell_type": "code",
   "execution_count": null,
   "metadata": {},
   "outputs": [],
   "source": []
  }
 ],
 "metadata": {
  "colab": {
   "name": "Untitled11.ipynb",
   "provenance": []
  },
  "kernelspec": {
   "display_name": "Python 3 (ipykernel)",
   "language": "python",
   "name": "python3"
  },
  "language_info": {
   "codemirror_mode": {
    "name": "ipython",
    "version": 3
   },
   "file_extension": ".py",
   "mimetype": "text/x-python",
   "name": "python",
   "nbconvert_exporter": "python",
   "pygments_lexer": "ipython3",
   "version": "3.9.12"
  }
 },
 "nbformat": 4,
 "nbformat_minor": 1
}
